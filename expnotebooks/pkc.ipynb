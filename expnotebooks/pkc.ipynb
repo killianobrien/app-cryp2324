{
 "cells": [
  {
   "cell_type": "code",
   "execution_count": 34,
   "id": "8e94db42",
   "metadata": {},
   "outputs": [],
   "source": [
    "import sympy as sp "
   ]
  },
  {
   "cell_type": "code",
   "execution_count": 35,
   "id": "c283eea6",
   "metadata": {},
   "outputs": [
    {
     "name": "stdout",
     "output_type": "stream",
     "text": [
      "55011641 56011621\n",
      "3081291186280061\n"
     ]
    }
   ],
   "source": [
    "m = 55011616\n",
    "p = sp.nextprime(m)\n",
    "q = sp.nextprime(m+10**6)\n",
    "print(p,q)\n",
    "n = p*q\n",
    "print(n)"
   ]
  },
  {
   "cell_type": "code",
   "execution_count": 14,
   "id": "4387a05f",
   "metadata": {},
   "outputs": [
    {
     "name": "stdout",
     "output_type": "stream",
     "text": [
      "5501 1616\n"
     ]
    }
   ],
   "source": [
    "a = 5501\n",
    "b = 1616\n",
    "print(a,b)"
   ]
  },
  {
   "cell_type": "code",
   "execution_count": 9,
   "id": "126d7f0c",
   "metadata": {},
   "outputs": [],
   "source": [
    "sp.nextprime?"
   ]
  },
  {
   "cell_type": "code",
   "execution_count": 33,
   "id": "a2915f8f",
   "metadata": {},
   "outputs": [
    {
     "ename": "KeyboardInterrupt",
     "evalue": "",
     "output_type": "error",
     "traceback": [
      "\u001b[0;31m---------------------------------------------------------------------------\u001b[0m",
      "\u001b[0;31mKeyboardInterrupt\u001b[0m                         Traceback (most recent call last)",
      "\u001b[0;32m<ipython-input-33-c8e7a46e1711>\u001b[0m in \u001b[0;36m<module>\u001b[0;34m\u001b[0m\n\u001b[1;32m      1\u001b[0m \u001b[0;32mfor\u001b[0m \u001b[0ma\u001b[0m \u001b[0;32min\u001b[0m \u001b[0mrange\u001b[0m\u001b[0;34m(\u001b[0m\u001b[0;36m4\u001b[0m\u001b[0;34m)\u001b[0m\u001b[0;34m:\u001b[0m\u001b[0;34m\u001b[0m\u001b[0;34m\u001b[0m\u001b[0m\n\u001b[0;32m----> 2\u001b[0;31m     \u001b[0;32mif\u001b[0m \u001b[0msp\u001b[0m\u001b[0;34m.\u001b[0m\u001b[0mMod\u001b[0m\u001b[0;34m(\u001b[0m\u001b[0ma\u001b[0m\u001b[0;34m**\u001b[0m\u001b[0;34m(\u001b[0m\u001b[0;34m(\u001b[0m\u001b[0mp\u001b[0m\u001b[0;34m-\u001b[0m\u001b[0;36m1\u001b[0m\u001b[0;34m)\u001b[0m\u001b[0;34m//\u001b[0m\u001b[0;36m2\u001b[0m\u001b[0;34m)\u001b[0m\u001b[0;34m,\u001b[0m\u001b[0mp\u001b[0m\u001b[0;34m)\u001b[0m \u001b[0;34m==\u001b[0m \u001b[0msp\u001b[0m\u001b[0;34m.\u001b[0m\u001b[0mMod\u001b[0m\u001b[0;34m(\u001b[0m\u001b[0;34m-\u001b[0m\u001b[0;36m1\u001b[0m\u001b[0;34m,\u001b[0m\u001b[0mp\u001b[0m\u001b[0;34m)\u001b[0m\u001b[0;34m:\u001b[0m\u001b[0;34m\u001b[0m\u001b[0;34m\u001b[0m\u001b[0m\n\u001b[0m\u001b[1;32m      3\u001b[0m         \u001b[0mprint\u001b[0m\u001b[0;34m(\u001b[0m\u001b[0ma\u001b[0m\u001b[0;34m)\u001b[0m\u001b[0;34m\u001b[0m\u001b[0;34m\u001b[0m\u001b[0m\n",
      "\u001b[0;31mKeyboardInterrupt\u001b[0m: "
     ]
    }
   ],
   "source": [
    "for a in range(4):\n",
    "    if sp.Mod(a**((p-1)//2),p) == sp.Mod(-1,p):\n",
    "        print(a)"
   ]
  },
  {
   "cell_type": "code",
   "execution_count": 36,
   "id": "4ba8d2a9",
   "metadata": {},
   "outputs": [
    {
     "data": {
      "text/latex": [
       "$\\displaystyle 55011640$"
      ],
      "text/plain": [
       "55011640"
      ]
     },
     "execution_count": 36,
     "metadata": {},
     "output_type": "execute_result"
    }
   ],
   "source": [
    "sp.Mod(3**((p-1)//2),p)"
   ]
  },
  {
   "cell_type": "code",
   "execution_count": 26,
   "id": "fd206f37",
   "metadata": {},
   "outputs": [
    {
     "data": {
      "text/plain": [
       "27505820"
      ]
     },
     "execution_count": 26,
     "metadata": {},
     "output_type": "execute_result"
    }
   ],
   "source": [
    "(p-1)//2"
   ]
  },
  {
   "cell_type": "code",
   "execution_count": 38,
   "id": "3a6f85bc",
   "metadata": {},
   "outputs": [
    {
     "data": {
      "text/plain": [
       "False"
      ]
     },
     "execution_count": 38,
     "metadata": {},
     "output_type": "execute_result"
    }
   ],
   "source": [
    "sp.is_primitive_root(2,p)"
   ]
  },
  {
   "cell_type": "code",
   "execution_count": 39,
   "id": "d989e41f",
   "metadata": {},
   "outputs": [
    {
     "data": {
      "text/plain": [
       "27505820"
      ]
     },
     "execution_count": 39,
     "metadata": {},
     "output_type": "execute_result"
    }
   ],
   "source": [
    "e = (p-1)//2\n",
    "e"
   ]
  },
  {
   "cell_type": "code",
   "execution_count": 40,
   "id": "50559192",
   "metadata": {},
   "outputs": [
    {
     "data": {
      "text/latex": [
       "$\\displaystyle 55011640$"
      ],
      "text/plain": [
       "55011640"
      ]
     },
     "execution_count": 40,
     "metadata": {},
     "output_type": "execute_result"
    }
   ],
   "source": [
    "sp.Mod(3**e,p)"
   ]
  },
  {
   "cell_type": "code",
   "execution_count": 41,
   "id": "513a5b99",
   "metadata": {},
   "outputs": [
    {
     "data": {
      "text/plain": [
       "'0b1101000111011010010011100'"
      ]
     },
     "execution_count": 41,
     "metadata": {},
     "output_type": "execute_result"
    }
   ],
   "source": [
    "bin(e)"
   ]
  },
  {
   "cell_type": "code",
   "execution_count": 42,
   "id": "c7fd3d80",
   "metadata": {},
   "outputs": [
    {
     "data": {
      "text/plain": [
       "'1101000111011010010011100'"
      ]
     },
     "execution_count": 42,
     "metadata": {},
     "output_type": "execute_result"
    }
   ],
   "source": [
    "bb = bin(e)[2:]\n",
    "bb"
   ]
  },
  {
   "cell_type": "code",
   "execution_count": 45,
   "id": "c571a6fb",
   "metadata": {},
   "outputs": [],
   "source": [
    "sq=[3]\n",
    "for j in range(len(bb)-1):\n",
    "    v = sq[-1]\n",
    "    newv = sp.Mod(v**2,p)\n",
    "    sq.append(newv)\n",
    "    "
   ]
  },
  {
   "cell_type": "code",
   "execution_count": 48,
   "id": "7cedbea7",
   "metadata": {},
   "outputs": [],
   "source": [
    "prod = 1\n",
    "for j in range(len(bb)):\n",
    "        if (bb[len(bb)-1 -j])=='1':\n",
    "            prod = sp.Mod(prod*sq[j],p)"
   ]
  },
  {
   "cell_type": "code",
   "execution_count": 49,
   "id": "41f4eaaa",
   "metadata": {},
   "outputs": [
    {
     "data": {
      "text/latex": [
       "$\\displaystyle 55011640$"
      ],
      "text/plain": [
       "55011640"
      ]
     },
     "execution_count": 49,
     "metadata": {},
     "output_type": "execute_result"
    }
   ],
   "source": [
    "prod"
   ]
  },
  {
   "cell_type": "code",
   "execution_count": null,
   "id": "185d9489",
   "metadata": {},
   "outputs": [],
   "source": []
  }
 ],
 "metadata": {
  "kernelspec": {
   "display_name": "Python 3",
   "language": "python",
   "name": "python3"
  },
  "language_info": {
   "codemirror_mode": {
    "name": "ipython",
    "version": 3
   },
   "file_extension": ".py",
   "mimetype": "text/x-python",
   "name": "python",
   "nbconvert_exporter": "python",
   "pygments_lexer": "ipython3",
   "version": "3.8.8"
  }
 },
 "nbformat": 4,
 "nbformat_minor": 5
}
