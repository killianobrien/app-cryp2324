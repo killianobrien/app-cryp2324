{
 "cells": [
  {
   "cell_type": "code",
   "execution_count": 1,
   "id": "8a8401bc",
   "metadata": {},
   "outputs": [
    {
     "data": {
      "text/plain": [
       "256"
      ]
     },
     "execution_count": 1,
     "metadata": {},
     "output_type": "execute_result"
    }
   ],
   "source": [
    "2**8"
   ]
  },
  {
   "cell_type": "code",
   "execution_count": 3,
   "id": "3d2ef97d",
   "metadata": {},
   "outputs": [
    {
     "data": {
      "text/plain": [
       "'0b11111111'"
      ]
     },
     "execution_count": 3,
     "metadata": {},
     "output_type": "execute_result"
    }
   ],
   "source": [
    "b = bin(255)\n",
    "b"
   ]
  },
  {
   "cell_type": "code",
   "execution_count": 4,
   "id": "39b52c22",
   "metadata": {},
   "outputs": [
    {
     "data": {
      "text/plain": [
       "8"
      ]
     },
     "execution_count": 4,
     "metadata": {},
     "output_type": "execute_result"
    }
   ],
   "source": [
    "len(b[2:])"
   ]
  },
  {
   "cell_type": "code",
   "execution_count": 6,
   "id": "0007dda1",
   "metadata": {},
   "outputs": [
    {
     "data": {
      "text/plain": [
       "'0b11001001'"
      ]
     },
     "execution_count": 6,
     "metadata": {},
     "output_type": "execute_result"
    }
   ],
   "source": [
    "bin(201)"
   ]
  },
  {
   "cell_type": "code",
   "execution_count": 7,
   "id": "ebb3e1f0",
   "metadata": {},
   "outputs": [],
   "source": [
    "import sympy as sp"
   ]
  },
  {
   "cell_type": "code",
   "execution_count": 8,
   "id": "07ac988c",
   "metadata": {},
   "outputs": [
    {
     "data": {
      "text/latex": [
       "$\\displaystyle x$"
      ],
      "text/plain": [
       "x"
      ]
     },
     "execution_count": 8,
     "metadata": {},
     "output_type": "execute_result"
    }
   ],
   "source": [
    "x = sp.symbols('x')\n",
    "x"
   ]
  },
  {
   "cell_type": "code",
   "execution_count": 9,
   "id": "50e60c3a",
   "metadata": {},
   "outputs": [
    {
     "data": {
      "text/latex": [
       "$\\displaystyle 2 x^{3} + 9 x^{2} + 10 x + 1$"
      ],
      "text/plain": [
       "2*x**3 + 9*x**2 + 10*x + 1"
      ]
     },
     "execution_count": 9,
     "metadata": {},
     "output_type": "execute_result"
    }
   ],
   "source": [
    "P = 2*x**3 + 9*x**2 + 10*x +1\n",
    "P"
   ]
  },
  {
   "cell_type": "code",
   "execution_count": 14,
   "id": "782b2ca8",
   "metadata": {},
   "outputs": [
    {
     "data": {
      "text/latex": [
       "$\\displaystyle 12 x^{4} + 54 x^{3} + 60 x^{2} + 6 x$"
      ],
      "text/plain": [
       "12*x**4 + 54*x**3 + 60*x**2 + 6*x"
      ]
     },
     "execution_count": 14,
     "metadata": {},
     "output_type": "execute_result"
    }
   ],
   "source": [
    "PP = 6*x*P\n",
    "PP\n",
    "sp.expand(PP)"
   ]
  },
  {
   "cell_type": "code",
   "execution_count": 15,
   "id": "273bbb7d",
   "metadata": {},
   "outputs": [],
   "source": [
    "PPP = _"
   ]
  },
  {
   "cell_type": "code",
   "execution_count": 16,
   "id": "76ce7c58",
   "metadata": {},
   "outputs": [
    {
     "data": {
      "text/latex": [
       "$\\displaystyle 12 x^{4} + 54 x^{3} + 60 x^{2} + 6 x$"
      ],
      "text/plain": [
       "12*x**4 + 54*x**3 + 60*x**2 + 6*x"
      ]
     },
     "execution_count": 16,
     "metadata": {},
     "output_type": "execute_result"
    }
   ],
   "source": [
    "PPP"
   ]
  },
  {
   "cell_type": "code",
   "execution_count": 19,
   "id": "5b580e51",
   "metadata": {},
   "outputs": [
    {
     "data": {
      "text/latex": [
       "$\\displaystyle 60$"
      ],
      "text/plain": [
       "60"
      ]
     },
     "execution_count": 19,
     "metadata": {},
     "output_type": "execute_result"
    }
   ],
   "source": [
    "PPP.coeff(x**2)"
   ]
  },
  {
   "cell_type": "code",
   "execution_count": null,
   "id": "8b4a2e16",
   "metadata": {},
   "outputs": [],
   "source": []
  }
 ],
 "metadata": {
  "kernelspec": {
   "display_name": "Python 3",
   "language": "python",
   "name": "python3"
  },
  "language_info": {
   "codemirror_mode": {
    "name": "ipython",
    "version": 3
   },
   "file_extension": ".py",
   "mimetype": "text/x-python",
   "name": "python",
   "nbconvert_exporter": "python",
   "pygments_lexer": "ipython3",
   "version": "3.8.8"
  }
 },
 "nbformat": 4,
 "nbformat_minor": 5
}
