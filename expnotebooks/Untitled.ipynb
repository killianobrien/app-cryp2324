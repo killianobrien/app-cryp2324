{
 "cells": [
  {
   "cell_type": "code",
   "execution_count": 39,
   "id": "a5ea8129",
   "metadata": {},
   "outputs": [],
   "source": [
    "import sympy as sp"
   ]
  },
  {
   "cell_type": "code",
   "execution_count": 40,
   "id": "40eabd4c",
   "metadata": {},
   "outputs": [],
   "source": [
    "m1 = sp.sympify(37)\n",
    "m2 = sp.sympify(49)\n",
    "M = m1*m2\n",
    "A = 973"
   ]
  },
  {
   "cell_type": "code",
   "execution_count": 41,
   "id": "f7b73e29",
   "metadata": {},
   "outputs": [
    {
     "data": {
      "text/latex": [
       "$\\displaystyle 1813$"
      ],
      "text/plain": [
       "1813"
      ]
     },
     "execution_count": 41,
     "metadata": {},
     "output_type": "execute_result"
    }
   ],
   "source": [
    "M"
   ]
  },
  {
   "cell_type": "code",
   "execution_count": 42,
   "id": "a8555220",
   "metadata": {},
   "outputs": [
    {
     "name": "stdout",
     "output_type": "stream",
     "text": [
      "49 37\n"
     ]
    }
   ],
   "source": [
    "M1=M/m1\n",
    "M2=M/m2\n",
    "print(M1,M2)"
   ]
  },
  {
   "cell_type": "code",
   "execution_count": 43,
   "id": "fd50b597",
   "metadata": {},
   "outputs": [
    {
     "name": "stdout",
     "output_type": "stream",
     "text": [
      "34 4\n"
     ]
    }
   ],
   "source": [
    "M1inv = sp.mod_inverse(M1,m1)\n",
    "M2inv = sp.mod_inverse(M2,m2)\n",
    "print(M1inv,M2inv)"
   ]
  },
  {
   "cell_type": "code",
   "execution_count": 44,
   "id": "bb207da7",
   "metadata": {},
   "outputs": [
    {
     "data": {
      "text/plain": [
       "(11, 42)"
      ]
     },
     "execution_count": 44,
     "metadata": {},
     "output_type": "execute_result"
    }
   ],
   "source": [
    "a = (sp.Mod(A,m1),sp.Mod(A,m2))\n",
    "a"
   ]
  },
  {
   "cell_type": "code",
   "execution_count": 45,
   "id": "5e23c2fa",
   "metadata": {},
   "outputs": [],
   "source": [
    "B = 678"
   ]
  },
  {
   "cell_type": "code",
   "execution_count": 47,
   "id": "802b1819",
   "metadata": {},
   "outputs": [
    {
     "data": {
      "text/plain": [
       "(12, 41)"
      ]
     },
     "execution_count": 47,
     "metadata": {},
     "output_type": "execute_result"
    }
   ],
   "source": [
    "b = (sp.Mod(B,m1),sp.Mod(B,m2))\n",
    "b"
   ]
  },
  {
   "cell_type": "code",
   "execution_count": 49,
   "id": "cf2d57ef",
   "metadata": {},
   "outputs": [
    {
     "data": {
      "text/plain": [
       "(23, 34)"
      ]
     },
     "execution_count": 49,
     "metadata": {},
     "output_type": "execute_result"
    }
   ],
   "source": [
    "sumab = (sp.Mod(a[0]+b[0],m1), sp.Mod(a[1]+b[1],m2))\n",
    "sumab"
   ]
  },
  {
   "cell_type": "code",
   "execution_count": 50,
   "id": "7036b1e7",
   "metadata": {},
   "outputs": [
    {
     "data": {
      "text/latex": [
       "$\\displaystyle 43350$"
      ],
      "text/plain": [
       "43350"
      ]
     },
     "execution_count": 50,
     "metadata": {},
     "output_type": "execute_result"
    }
   ],
   "source": [
    "x = sumab[0]*M1*M1inv + sumab[1]*M2*M2inv\n",
    "x"
   ]
  },
  {
   "cell_type": "code",
   "execution_count": 51,
   "id": "70ee771c",
   "metadata": {},
   "outputs": [
    {
     "data": {
      "text/latex": [
       "$\\displaystyle 1651$"
      ],
      "text/plain": [
       "1651"
      ]
     },
     "execution_count": 51,
     "metadata": {},
     "output_type": "execute_result"
    }
   ],
   "source": [
    "x = sp.Mod(x,M)\n",
    "x"
   ]
  },
  {
   "cell_type": "code",
   "execution_count": 52,
   "id": "c8131808",
   "metadata": {},
   "outputs": [
    {
     "data": {
      "text/plain": [
       "1651"
      ]
     },
     "execution_count": 52,
     "metadata": {},
     "output_type": "execute_result"
    }
   ],
   "source": [
    "A+B"
   ]
  },
  {
   "cell_type": "code",
   "execution_count": 61,
   "id": "1b17615c",
   "metadata": {},
   "outputs": [
    {
     "data": {
      "text/plain": [
       "11526"
      ]
     },
     "execution_count": 61,
     "metadata": {},
     "output_type": "execute_result"
    }
   ],
   "source": [
    "17*B"
   ]
  },
  {
   "cell_type": "code",
   "execution_count": 64,
   "id": "396e2ce2",
   "metadata": {},
   "outputs": [
    {
     "data": {
      "text/plain": [
       "1651"
      ]
     },
     "execution_count": 64,
     "metadata": {},
     "output_type": "execute_result"
    }
   ],
   "source": [
    "A+B"
   ]
  },
  {
   "cell_type": "code",
   "execution_count": 66,
   "id": "6a1451d3",
   "metadata": {},
   "outputs": [
    {
     "data": {
      "text/latex": [
       "$\\displaystyle 865$"
      ],
      "text/plain": [
       "865"
      ]
     },
     "execution_count": 66,
     "metadata": {},
     "output_type": "execute_result"
    }
   ],
   "source": [
    "sp.Mod(73*1651,M)"
   ]
  },
  {
   "cell_type": "code",
   "execution_count": 55,
   "id": "459798dd",
   "metadata": {},
   "outputs": [
    {
     "data": {
      "text/plain": [
       "(23, 34)"
      ]
     },
     "execution_count": 55,
     "metadata": {},
     "output_type": "execute_result"
    }
   ],
   "source": [
    "sumab"
   ]
  },
  {
   "cell_type": "code",
   "execution_count": 67,
   "id": "4b615f17",
   "metadata": {},
   "outputs": [
    {
     "data": {
      "text/plain": [
       "(1679, 2482)"
      ]
     },
     "execution_count": 67,
     "metadata": {},
     "output_type": "execute_result"
    }
   ],
   "source": [
    "prod = (73*sumab[0],73*sumab[1])\n",
    "prod"
   ]
  },
  {
   "cell_type": "code",
   "execution_count": 68,
   "id": "d181327e",
   "metadata": {},
   "outputs": [
    {
     "data": {
      "text/plain": [
       "(14, 32)"
      ]
     },
     "execution_count": 68,
     "metadata": {},
     "output_type": "execute_result"
    }
   ],
   "source": [
    "(sp.Mod(prod[0],m1),sp.Mod(prod[1],m2))"
   ]
  },
  {
   "cell_type": "code",
   "execution_count": 59,
   "id": "d0abbe75",
   "metadata": {},
   "outputs": [
    {
     "data": {
      "text/plain": [
       "120523"
      ]
     },
     "execution_count": 59,
     "metadata": {},
     "output_type": "execute_result"
    }
   ],
   "source": [
    "1651*73"
   ]
  },
  {
   "cell_type": "code",
   "execution_count": 60,
   "id": "eac4838a",
   "metadata": {},
   "outputs": [
    {
     "data": {
      "text/latex": [
       "$\\displaystyle 865$"
      ],
      "text/plain": [
       "865"
      ]
     },
     "execution_count": 60,
     "metadata": {},
     "output_type": "execute_result"
    }
   ],
   "source": [
    "_%M"
   ]
  },
  {
   "cell_type": "code",
   "execution_count": 62,
   "id": "18737cf4",
   "metadata": {},
   "outputs": [
    {
     "data": {
      "text/plain": [
       "1651"
      ]
     },
     "execution_count": 62,
     "metadata": {},
     "output_type": "execute_result"
    }
   ],
   "source": [
    "A+B"
   ]
  },
  {
   "cell_type": "code",
   "execution_count": 69,
   "id": "2340d583",
   "metadata": {},
   "outputs": [],
   "source": [
    "x = prod[0]*M1*M1inv + prod[1]*M2*M2inv"
   ]
  },
  {
   "cell_type": "code",
   "execution_count": 70,
   "id": "47f52a3c",
   "metadata": {},
   "outputs": [
    {
     "data": {
      "text/latex": [
       "$\\displaystyle 3164550$"
      ],
      "text/plain": [
       "3164550"
      ]
     },
     "execution_count": 70,
     "metadata": {},
     "output_type": "execute_result"
    }
   ],
   "source": [
    "x"
   ]
  },
  {
   "cell_type": "code",
   "execution_count": 71,
   "id": "1cccf522",
   "metadata": {},
   "outputs": [
    {
     "data": {
      "text/latex": [
       "$\\displaystyle 865$"
      ],
      "text/plain": [
       "865"
      ]
     },
     "execution_count": 71,
     "metadata": {},
     "output_type": "execute_result"
    }
   ],
   "source": [
    "sp.Mod(x,M)"
   ]
  },
  {
   "cell_type": "code",
   "execution_count": null,
   "id": "575d654a",
   "metadata": {},
   "outputs": [],
   "source": []
  }
 ],
 "metadata": {
  "kernelspec": {
   "display_name": "Python 3",
   "language": "python",
   "name": "python3"
  },
  "language_info": {
   "codemirror_mode": {
    "name": "ipython",
    "version": 3
   },
   "file_extension": ".py",
   "mimetype": "text/x-python",
   "name": "python",
   "nbconvert_exporter": "python",
   "pygments_lexer": "ipython3",
   "version": "3.8.8"
  }
 },
 "nbformat": 4,
 "nbformat_minor": 5
}
