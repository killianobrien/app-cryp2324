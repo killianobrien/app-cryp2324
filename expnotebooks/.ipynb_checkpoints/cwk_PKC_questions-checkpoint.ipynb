{
 "cells": [
  {
   "cell_type": "markdown",
   "id": "b92871d5",
   "metadata": {},
   "source": [
    "# Coursework assignment: Public-key cryptosystems\n",
    "## Applied Cryptography (6G6Z0024_2324_9)\n",
    "### Killian O'Brien"
   ]
  },
  {
   "cell_type": "markdown",
   "id": "05c41cd5",
   "metadata": {},
   "source": [
    "### Introduction\n",
    "\n",
    "#### Introduction\n",
    "\n",
    "Prepare Jupyter notebook solutions to the following problems on public-key cryptosystems.\n",
    "\n",
    "#### Question parameters\n",
    "\n",
    "The following questions require inputs derived from your student ID number. Let $n$ denote your 8-digit Man Met student ID number. Now let $a$ and $b$ denote the 4-digit integers formed by, respectively, the left-hand and right-hand halves of $n$. \n",
    "\n",
    "For example, if $n = 21395495$ then we would have $a=2139$ and $b=5495$. But when working on these questions make sure that you are using your correct values of $n$, $a$ and $b$."
   ]
  },
  {
   "cell_type": "markdown",
   "id": "59846792",
   "metadata": {},
   "source": [
    "### Questions\n",
    "\n"
   ]
  },
  {
   "cell_type": "code",
   "execution_count": null,
   "id": "3253ab8e",
   "metadata": {},
   "outputs": [],
   "source": []
  }
 ],
 "metadata": {
  "kernelspec": {
   "display_name": "Python 3",
   "language": "python",
   "name": "python3"
  },
  "language_info": {
   "codemirror_mode": {
    "name": "ipython",
    "version": 3
   },
   "file_extension": ".py",
   "mimetype": "text/x-python",
   "name": "python",
   "nbconvert_exporter": "python",
   "pygments_lexer": "ipython3",
   "version": "3.8.8"
  }
 },
 "nbformat": 4,
 "nbformat_minor": 5
}
