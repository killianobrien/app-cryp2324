{
 "cells": [
  {
   "cell_type": "markdown",
   "id": "efb6bf24",
   "metadata": {},
   "source": [
    "# Week 02 Lab\n",
    "## Applied Cryptography (6G6Z0024_2324_9)\n",
    "### Killian O'Brien"
   ]
  },
  {
   "cell_type": "markdown",
   "id": "c68a2e94",
   "metadata": {},
   "source": [
    "####  Getting started\n",
    "\n",
    "* I've realised since last week that Jupyter notebooks are installed directly on the PCs so we don't have to go through the `Anaconda` system. So to launch your Jupyter notebook server simply search for `Jupyter` on the `Start` menu and launch the app. This should present you with a file browser in a web browser. From here you can launch a `Python3` notebook. \n",
    "* You can also upload any existing/downloaded notbooks from this file browser.\n",
    "* Remember to save your notebooks somewhere sensible, such as your `OneDrive`.\n",
    "* Remember that a Jupyter notebook cell can be set to *Code* or *Markdown*, suing the drop down menu box at the top of the notebook or the keyboard shortcuts `Y` and `M`, keyed when the cell is selected, but not with the cursor inside it, otherwise you'll simply type a Y or M. Markdown cells can be used to enter text description of your work, Just like you see here in this labsheet. Guidance can be found in the [Jupyter documentation](https://jupyter-notebook.readthedocs.io/en/stable/examples/Notebook/Working%20With%20Markdown%20Cells.html)."
   ]
  },
  {
   "cell_type": "markdown",
   "id": "3557c1d2",
   "metadata": {},
   "source": [
    "#### The Chinese Remainder theorem\n",
    "\n",
    "* During the week I'll publish a short video lecture on the CRT which explains the result and what it can be used for."
   ]
  },
  {
   "cell_type": "markdown",
   "id": "35f4946f",
   "metadata": {},
   "source": [
    "#### Today's lab activities\n",
    "\n",
    "1. Initially I'll be available to circulate and answer any queries you had on last week's work and the lab solutions I have posted on the unit's [Moodle area](https://moodle.mmu.ac.uk/course/view.php?id=172138). \n",
    "\n",
    "2. Below you'll find a number of tasks to familiarise yourself with this week's topics.\n",
    "\n",
    "3. Remember to import the Sympy library at the top of your notebook by execting the following command:"
   ]
  },
  {
   "cell_type": "code",
   "execution_count": 1,
   "id": "5419cac5",
   "metadata": {},
   "outputs": [],
   "source": [
    "import sympy as sp"
   ]
  },
  {
   "cell_type": "markdown",
   "id": "eb0e8c9e",
   "metadata": {},
   "source": [
    "#### Primes"
   ]
  },
  {
   "cell_type": "markdown",
   "id": "80551ebc",
   "metadata": {},
   "source": [
    "Familiarise yourself with some of Sympy's prime related functions. \n",
    "\n",
    "* Have a look at the Sympy documentation on its [Number Theory related functions](https://docs.sympy.org/latest/modules/ntheory.html#)\n",
    "\n",
    "* On that page you will find examples of usage for the functions\n",
    "    - `primerange()`\n",
    "    - `prime()`\n",
    "    - `primepi()`\n",
    "    - `nextprime()`\n",
    "    - `prevprime()`\n",
    "    - `isprime()`\n",
    "    - see what others you can find. \n",
    "* You can slo view function docstrings by exectuing the name of the command followed immediately bu a question mark, for instance by executing `sp.isprime?`\n",
    "* Use these in your own Jupyter notebook. Become acquainted with how to use them and what their output is. "
   ]
  },
  {
   "cell_type": "markdown",
   "id": "72774fa3-1fbd-475c-8f28-5d7bea928862",
   "metadata": {},
   "source": [
    "For these tasks let $n$ be the integer given by your 8-digit Man Met student ID number.\n",
    "\n",
    "1. Find the prime integers either side of $n$.\n",
    "2. Consult the docstring on the function `sp.factorint()`. You can quickly do this by executing `sp.factorint?` in a notebook code cell.\n",
    "3. Find the prime factorization of $n$, and confirm it by evaluating the relevant product of primes. Are you lucky enough to possess a prime ID number?\n",
    "4. For the prime factors $p$ that appear in the factorization of your $n$, are any of the numbers $2^p - 1$ also prime? If you so you have discovered a Mersenne prime associated to your ID number. Remember you enter $2^p - 1$ in Python as `2**p -1`."
   ]
  },
  {
   "cell_type": "code",
   "execution_count": 5,
   "id": "cb377a19-1210-4fe6-becf-366723a852bd",
   "metadata": {},
   "outputs": [],
   "source": [
    "n = 21430455"
   ]
  },
  {
   "cell_type": "code",
   "execution_count": 6,
   "id": "ac382435-a270-4238-ba00-dd935e8f037b",
   "metadata": {},
   "outputs": [
    {
     "name": "stdout",
     "output_type": "stream",
     "text": [
      "21430447 21430455 21430477\n"
     ]
    }
   ],
   "source": [
    "#Q1\n",
    "p1 = sp.prevprime(n)\n",
    "p2 = sp.nextprime(n)\n",
    "print(p1,n,p2)"
   ]
  },
  {
   "cell_type": "code",
   "execution_count": 7,
   "id": "548193cc-6535-4d03-a04d-2e836f9ba884",
   "metadata": {},
   "outputs": [
    {
     "data": {
      "text/plain": [
       "{3: 1, 5: 1, 17: 1, 31: 1, 2711: 1}"
      ]
     },
     "execution_count": 7,
     "metadata": {},
     "output_type": "execute_result"
    }
   ],
   "source": [
    "#Q3\n",
    "F = sp.factorint(n)\n",
    "F"
   ]
  },
  {
   "cell_type": "code",
   "execution_count": 8,
   "id": "8bf78bba-f6a0-4826-89ab-f1dc8dbaa5ff",
   "metadata": {},
   "outputs": [
    {
     "data": {
      "text/plain": [
       "True"
      ]
     },
     "execution_count": 8,
     "metadata": {},
     "output_type": "execute_result"
    }
   ],
   "source": [
    "sp.prod(f**F[f] for f in F) == n"
   ]
  },
  {
   "cell_type": "code",
   "execution_count": 9,
   "id": "8b9fca6f-504f-4527-8fa7-12da22d9f2cb",
   "metadata": {},
   "outputs": [
    {
     "data": {
      "text/plain": [
       "[True, True, True, True, False]"
      ]
     },
     "execution_count": 9,
     "metadata": {},
     "output_type": "execute_result"
    }
   ],
   "source": [
    "#Q4\n",
    "[sp.isprime(2**f - 1) for f in F]"
   ]
  },
  {
   "cell_type": "code",
   "execution_count": 10,
   "id": "2d8386c5-93d2-4bf7-8042-d84ef47c9ab7",
   "metadata": {},
   "outputs": [
    {
     "name": "stdout",
     "output_type": "stream",
     "text": [
      "3 7\n",
      "5 31\n",
      "17 131071\n",
      "31 2147483647\n",
      "2711 1236853450727792992269799335221018419882904331695476092503226000656869252919907712877188861314805468352428175508246139420805429067735850799004416986489038813044331422584496076228250787131690815217893714403267414966384650480642322052515791013426741728346796039631332533878165469174960670257347133160296728775101800593622275503967161878968949985291022616679189808442000724024667125068976638819066420926511095819399098975333967620339655395056745898354282626564275458223067352387695901371839821768398200419610688072164856415124771557677771173546521740143722799050843634310678925794178819821312996568736509691400612156723045684504715551284781700488274656459601237049340340125756863225483525952281398080543307093087195352083476545421280053145621057979191271071768480785332507827092946601583488855880915874466593459612418047\n"
     ]
    }
   ],
   "source": [
    "for f in F:\n",
    "    print(f,2**f - 1)"
   ]
  },
  {
   "cell_type": "code",
   "execution_count": 11,
   "id": "6eea1c39-85fa-40b6-8a16-b18d4ca75c8c",
   "metadata": {},
   "outputs": [
    {
     "data": {
      "text/plain": [
       "{585577: 1,\n",
       " 76954447: 1,\n",
       " 27447355857092625591584567558156632306229344134135456014861181219824331447114385161263553876140325297268491493743883963502079064449563748464349975683616813384986562522044597976438062940834708366913790052915490491227018915921799171999248680063300378358489663917057779250603629938305449491611188074283177440406067903453367261474662477486276468951788345244876596262578046537456812502740582667307139402104819431738519337998676409546492115637676635568504408964682762704674990025695093560909667948720842635213979161048780679180793066609823233557123808755868009755283018981399579911524289537708267265796637423821004001704394335264452917183926150207591728211386315058150910048143641349152225277452931411725267982143421545571208266034685846971885404529782925230323998265410612003095773363532687478287057325471913: 1}"
      ]
     },
     "execution_count": 11,
     "metadata": {},
     "output_type": "execute_result"
    }
   ],
   "source": [
    "FF = sp.factorint(2**2711 - 1, limit = 10000)\n",
    "FF"
   ]
  },
  {
   "cell_type": "code",
   "execution_count": 12,
   "id": "2d67e362-f40c-41ca-9728-45fb2e8037ed",
   "metadata": {},
   "outputs": [
    {
     "data": {
      "text/plain": [
       "[True, True, False]"
      ]
     },
     "execution_count": 12,
     "metadata": {},
     "output_type": "execute_result"
    }
   ],
   "source": [
    "[sp.isprime(f) for f in FF]"
   ]
  },
  {
   "cell_type": "markdown",
   "id": "ed57e495-9985-4a1a-806e-f187cfdb9df5",
   "metadata": {},
   "source": [
    "#### Fermat's Little Theorem\n",
    "\n",
    "5. For the largest prime $p$ appearing the factorization of your $n$, verify Fermat's Little theorem as follows. Use the function `sp.Mod()` to confirm that $a^{p-1}$ is indeed congruent to 1 modulo $p$. Do this for maybe all the integers $a$ in the range $1 \\leq a \\lt p$. Though if your $p$ is large this may take some time. So maybe abort the execution and test instead for some significant segment of this range of $a$. Use some kind of efficient code to dso this. Maybe a Python `for` loop. Or perhaps make use of the Python `all` command ..."
   ]
  },
  {
   "cell_type": "code",
   "execution_count": 37,
   "id": "31016cef",
   "metadata": {},
   "outputs": [],
   "source": [
    "n = 21430455"
   ]
  },
  {
   "cell_type": "code",
   "execution_count": 38,
   "id": "4a8149f0",
   "metadata": {},
   "outputs": [
    {
     "data": {
      "text/plain": [
       "{3: 1, 5: 1, 17: 1, 31: 1, 2711: 1}"
      ]
     },
     "execution_count": 38,
     "metadata": {},
     "output_type": "execute_result"
    }
   ],
   "source": [
    "F = sp.factorint(n)\n",
    "F"
   ]
  },
  {
   "cell_type": "code",
   "execution_count": 41,
   "id": "a5701696",
   "metadata": {},
   "outputs": [
    {
     "data": {
      "text/plain": [
       "True"
      ]
     },
     "execution_count": 41,
     "metadata": {},
     "output_type": "execute_result"
    }
   ],
   "source": [
    "p = 2711\n",
    "all(sp.Mod(a**(p-1),p) == 1 for a in range(1,p))"
   ]
  },
  {
   "cell_type": "markdown",
   "id": "9633be71-14c4-4fa2-b309-c579d47f89b7",
   "metadata": {},
   "source": [
    "The next prime year is 2027.\n",
    "\n",
    "6. Suppose we wanted to find the value of $2^n \\pmod{2027}$. Use Fermat's little theorem and the reduction of $n$ modulo $2026$ to obtain this value. Then confirm with the use of the command `sp.Mod(2**n,2027)`."
   ]
  },
  {
   "cell_type": "code",
   "execution_count": 44,
   "id": "a40771c0",
   "metadata": {},
   "outputs": [
    {
     "data": {
      "text/plain": [
       "21430455"
      ]
     },
     "execution_count": 44,
     "metadata": {},
     "output_type": "execute_result"
    }
   ],
   "source": [
    "n"
   ]
  },
  {
   "cell_type": "code",
   "execution_count": 46,
   "id": "0a8d2716",
   "metadata": {},
   "outputs": [
    {
     "data": {
      "text/latex": [
       "$\\displaystyle 1716$"
      ],
      "text/plain": [
       "1716"
      ]
     },
     "execution_count": 46,
     "metadata": {},
     "output_type": "execute_result"
    }
   ],
   "source": [
    "sp.Mod(2**n,2027)"
   ]
  },
  {
   "cell_type": "code",
   "execution_count": 50,
   "id": "8dd47482",
   "metadata": {},
   "outputs": [
    {
     "data": {
      "text/latex": [
       "$\\displaystyle 1453$"
      ],
      "text/plain": [
       "1453"
      ]
     },
     "execution_count": 50,
     "metadata": {},
     "output_type": "execute_result"
    }
   ],
   "source": [
    "rn = sp.Mod(n,2026)\n",
    "rn"
   ]
  },
  {
   "cell_type": "code",
   "execution_count": 51,
   "id": "d0ee8e86",
   "metadata": {},
   "outputs": [
    {
     "data": {
      "text/latex": [
       "$\\displaystyle 1716$"
      ],
      "text/plain": [
       "1716"
      ]
     },
     "execution_count": 51,
     "metadata": {},
     "output_type": "execute_result"
    }
   ],
   "source": [
    "sp.Mod(2**1453,2027)"
   ]
  },
  {
   "cell_type": "markdown",
   "id": "0ae290dd",
   "metadata": {},
   "source": [
    "Note that you cannot easily obtain the raw integer value of $2^n$ using Python, as it is **very** large. So `sp.Mod` must implement this Fermat's/Euler's theorem technique, or perhaps the repeated squares technique, or a combination of both depending on the size/structure of its input. If you do try and execute `2**n` in a code cell, you can use the square STOP button at the top of the notebook to halt the execution. "
   ]
  },
  {
   "cell_type": "markdown",
   "id": "17e153ff",
   "metadata": {},
   "source": [
    "#### Euler's theorem and the Euler totient function"
   ]
  },
  {
   "cell_type": "markdown",
   "id": "84b99500",
   "metadata": {},
   "source": [
    "7. Use your factorization of $n$ to compute the Euler totient function value $\\phi(n)$. Then confirm your answer by using Sympy's function `sp.totient()`.\n",
    "8. Recall from the lecture that $2^{82589933}-1$ is the current largest known prime, to humans! Use Euler's theorem and your totient value $\\phi(n)$ to obtain the value of $2^{82589933} \\pmod{n}$ in two different ways using `sp.Mod()`.\n",
    "9. Suppose you didn't have access to Python or Sympy, and just had a simple calculator for doing integer arithmetic. Try and confirm the value of $2^{82589933} \\pmod{n}$ by using only calulator style arithmetic and the technique of repeated squaring. You will need to express $82589933$ as a sum of powers of $2$. You can determine this expression by inspecting the binary representation of $82589933$, which you can get using the Python command `bin(82589933)`.\n",
    "\n",
    "In ansering this last question you can allow yourself to use Python and its modular reduction operator `%`, but try and do so using arguments as small as possible."
   ]
  },
  {
   "cell_type": "code",
   "execution_count": null,
   "id": "31bc09ff",
   "metadata": {},
   "outputs": [],
   "source": []
  },
  {
   "cell_type": "code",
   "execution_count": null,
   "id": "38b668f3",
   "metadata": {},
   "outputs": [],
   "source": []
  },
  {
   "cell_type": "code",
   "execution_count": null,
   "id": "70660f82",
   "metadata": {},
   "outputs": [],
   "source": []
  },
  {
   "cell_type": "code",
   "execution_count": null,
   "id": "eabf3252",
   "metadata": {},
   "outputs": [],
   "source": []
  },
  {
   "cell_type": "code",
   "execution_count": null,
   "id": "fc3caebd",
   "metadata": {},
   "outputs": [],
   "source": []
  },
  {
   "cell_type": "code",
   "execution_count": null,
   "id": "b956d56f",
   "metadata": {},
   "outputs": [],
   "source": []
  },
  {
   "cell_type": "code",
   "execution_count": null,
   "id": "4ee5d498",
   "metadata": {},
   "outputs": [],
   "source": []
  },
  {
   "cell_type": "code",
   "execution_count": null,
   "id": "6cc2bc9e",
   "metadata": {},
   "outputs": [],
   "source": []
  },
  {
   "cell_type": "markdown",
   "id": "dc3b4495",
   "metadata": {},
   "source": [
    "#### Further problems from Stallings"
   ]
  },
  {
   "cell_type": "markdown",
   "id": "28830d48",
   "metadata": {},
   "source": [
    "To further explore these topics you could try some of the problems from the end of chapter 2 of Stallings. Suggested problems are \n",
    "\n",
    "* 2.20 -- 2.24\n",
    "* 2.30 "
   ]
  },
  {
   "cell_type": "code",
   "execution_count": null,
   "id": "440e57b2",
   "metadata": {},
   "outputs": [],
   "source": []
  }
 ],
 "metadata": {
  "kernelspec": {
   "display_name": "Python 3",
   "language": "python",
   "name": "python3"
  },
  "language_info": {
   "codemirror_mode": {
    "name": "ipython",
    "version": 3
   },
   "file_extension": ".py",
   "mimetype": "text/x-python",
   "name": "python",
   "nbconvert_exporter": "python",
   "pygments_lexer": "ipython3",
   "version": "3.8.8"
  }
 },
 "nbformat": 4,
 "nbformat_minor": 5
}
