{
 "cells": [
  {
   "cell_type": "code",
   "execution_count": 1,
   "id": "5caf9a8c",
   "metadata": {},
   "outputs": [],
   "source": [
    "import sympy as sp"
   ]
  },
  {
   "cell_type": "code",
   "execution_count": 2,
   "id": "540ad3e3",
   "metadata": {},
   "outputs": [
    {
     "data": {
      "text/plain": [
       "{2: 5, 11: 1, 131: 1, 1193: 1}"
      ]
     },
     "execution_count": 2,
     "metadata": {},
     "output_type": "execute_result"
    }
   ],
   "source": [
    "sp.factorint(55011616)"
   ]
  },
  {
   "cell_type": "code",
   "execution_count": 3,
   "id": "80a91ac6",
   "metadata": {},
   "outputs": [],
   "source": [
    "sp.primerange?"
   ]
  },
  {
   "cell_type": "code",
   "execution_count": 4,
   "id": "89a63034",
   "metadata": {},
   "outputs": [],
   "source": [
    "sp.prime?"
   ]
  },
  {
   "cell_type": "code",
   "execution_count": 5,
   "id": "9a817c04",
   "metadata": {},
   "outputs": [],
   "source": [
    "n = 21358535"
   ]
  },
  {
   "cell_type": "code",
   "execution_count": 6,
   "id": "0d0f49eb",
   "metadata": {},
   "outputs": [
    {
     "data": {
      "text/plain": [
       "{5: 1, 11: 1, 31: 1, 12527: 1}"
      ]
     },
     "execution_count": 6,
     "metadata": {},
     "output_type": "execute_result"
    }
   ],
   "source": [
    "sp.factorint(n)"
   ]
  },
  {
   "cell_type": "code",
   "execution_count": 12,
   "id": "d42cc994",
   "metadata": {},
   "outputs": [
    {
     "data": {
      "text/plain": [
       "False"
      ]
     },
     "execution_count": 12,
     "metadata": {},
     "output_type": "execute_result"
    }
   ],
   "source": [
    "sp.isprime(2**12527 - 1)"
   ]
  },
  {
   "cell_type": "code",
   "execution_count": 16,
   "id": "3f306bb2",
   "metadata": {},
   "outputs": [
    {
     "data": {
      "text/plain": [
       "True"
      ]
     },
     "execution_count": 16,
     "metadata": {},
     "output_type": "execute_result"
    }
   ],
   "source": [
    "all(sp.Mod(a**12526,12527)==1 for a in range(1,125))"
   ]
  },
  {
   "cell_type": "code",
   "execution_count": 19,
   "id": "053c0eb9",
   "metadata": {},
   "outputs": [
    {
     "data": {
      "text/plain": [
       "True"
      ]
     },
     "execution_count": 19,
     "metadata": {},
     "output_type": "execute_result"
    }
   ],
   "source": [
    "sp.isprime(2027)"
   ]
  },
  {
   "cell_type": "code",
   "execution_count": 20,
   "id": "3deab77f",
   "metadata": {},
   "outputs": [
    {
     "data": {
      "text/plain": [
       "'0b1010001011110011111000111'"
      ]
     },
     "execution_count": 20,
     "metadata": {},
     "output_type": "execute_result"
    }
   ],
   "source": [
    "bin(n)"
   ]
  },
  {
   "cell_type": "code",
   "execution_count": 21,
   "id": "d0875b9b",
   "metadata": {},
   "outputs": [
    {
     "data": {
      "text/latex": [
       "$\\displaystyle 461$"
      ],
      "text/plain": [
       "461"
      ]
     },
     "execution_count": 21,
     "metadata": {},
     "output_type": "execute_result"
    }
   ],
   "source": [
    "sp.Mod(2**n,2027)"
   ]
  },
  {
   "cell_type": "code",
   "execution_count": 23,
   "id": "74483803",
   "metadata": {},
   "outputs": [
    {
     "data": {
      "text/latex": [
       "$\\displaystyle 443$"
      ],
      "text/plain": [
       "443"
      ]
     },
     "execution_count": 23,
     "metadata": {},
     "output_type": "execute_result"
    }
   ],
   "source": [
    "sp.Mod(n,2026)"
   ]
  },
  {
   "cell_type": "code",
   "execution_count": 24,
   "id": "1d8c7a95",
   "metadata": {},
   "outputs": [
    {
     "data": {
      "text/latex": [
       "$\\displaystyle 461$"
      ],
      "text/plain": [
       "461"
      ]
     },
     "execution_count": 24,
     "metadata": {},
     "output_type": "execute_result"
    }
   ],
   "source": [
    "sp.Mod(2**443,2027)"
   ]
  },
  {
   "cell_type": "code",
   "execution_count": 27,
   "id": "99589bf5",
   "metadata": {},
   "outputs": [
    {
     "data": {
      "text/plain": [
       "False"
      ]
     },
     "execution_count": 27,
     "metadata": {},
     "output_type": "execute_result"
    }
   ],
   "source": [
    "sp.isprime(2**n -1)"
   ]
  },
  {
   "cell_type": "code",
   "execution_count": 28,
   "id": "f53ca9f2",
   "metadata": {},
   "outputs": [
    {
     "data": {
      "text/plain": [
       "15031200"
      ]
     },
     "execution_count": 28,
     "metadata": {},
     "output_type": "execute_result"
    }
   ],
   "source": [
    "sp.totient(n)"
   ]
  },
  {
   "cell_type": "code",
   "execution_count": 35,
   "id": "03faea40",
   "metadata": {},
   "outputs": [
    {
     "data": {
      "text/latex": [
       "$\\displaystyle 1$"
      ],
      "text/plain": [
       "1"
      ]
     },
     "execution_count": 35,
     "metadata": {},
     "output_type": "execute_result"
    }
   ],
   "source": [
    "sp.Mod(3**15031200,n)"
   ]
  },
  {
   "cell_type": "code",
   "execution_count": 42,
   "id": "1bdebb39",
   "metadata": {},
   "outputs": [
    {
     "ename": "KeyboardInterrupt",
     "evalue": "",
     "output_type": "error",
     "traceback": [
      "\u001b[0;31m---------------------------------------------------------------------------\u001b[0m",
      "\u001b[0;31mKeyboardInterrupt\u001b[0m                         Traceback (most recent call last)",
      "\u001b[0;32m<ipython-input-42-17540858c3c5>\u001b[0m in \u001b[0;36m<module>\u001b[0;34m\u001b[0m\n\u001b[1;32m      1\u001b[0m \u001b[0;32mfor\u001b[0m \u001b[0mi\u001b[0m \u001b[0;32min\u001b[0m \u001b[0mrange\u001b[0m\u001b[0;34m(\u001b[0m\u001b[0;36m1\u001b[0m\u001b[0;34m,\u001b[0m\u001b[0msp\u001b[0m\u001b[0;34m.\u001b[0m\u001b[0mtotient\u001b[0m\u001b[0;34m(\u001b[0m\u001b[0mn\u001b[0m\u001b[0;34m)\u001b[0m\u001b[0;34m)\u001b[0m\u001b[0;34m:\u001b[0m\u001b[0;34m\u001b[0m\u001b[0;34m\u001b[0m\u001b[0m\n\u001b[0;32m----> 2\u001b[0;31m     \u001b[0;32mif\u001b[0m \u001b[0msp\u001b[0m\u001b[0;34m.\u001b[0m\u001b[0mMod\u001b[0m\u001b[0;34m(\u001b[0m\u001b[0;36m7\u001b[0m\u001b[0;34m**\u001b[0m\u001b[0mi\u001b[0m\u001b[0;34m,\u001b[0m\u001b[0mn\u001b[0m\u001b[0;34m)\u001b[0m\u001b[0;34m==\u001b[0m\u001b[0;36m1\u001b[0m\u001b[0;34m:\u001b[0m\u001b[0;34m\u001b[0m\u001b[0;34m\u001b[0m\u001b[0m\n\u001b[0m\u001b[1;32m      3\u001b[0m         \u001b[0mprint\u001b[0m\u001b[0;34m(\u001b[0m\u001b[0mi\u001b[0m\u001b[0;34m)\u001b[0m\u001b[0;34m\u001b[0m\u001b[0;34m\u001b[0m\u001b[0m\n\u001b[1;32m      4\u001b[0m         \u001b[0;32mbreak\u001b[0m\u001b[0;34m\u001b[0m\u001b[0;34m\u001b[0m\u001b[0m\n",
      "\u001b[0;31mKeyboardInterrupt\u001b[0m: "
     ]
    }
   ],
   "source": [
    "for i in range(1,sp.totient(n)):\n",
    "    if sp.Mod(7**i,n)==1:\n",
    "        print(i)\n",
    "        break"
   ]
  },
  {
   "cell_type": "code",
   "execution_count": 39,
   "id": "c0d401e9",
   "metadata": {},
   "outputs": [
    {
     "data": {
      "text/plain": [
       "{2: 5, 3: 1, 5: 2, 6263: 1}"
      ]
     },
     "execution_count": 39,
     "metadata": {},
     "output_type": "execute_result"
    }
   ],
   "source": [
    "sp.factorint(sp.totient(n))"
   ]
  },
  {
   "cell_type": "code",
   "execution_count": 32,
   "id": "b1a2411d",
   "metadata": {},
   "outputs": [
    {
     "data": {
      "text/plain": [
       "21358535"
      ]
     },
     "execution_count": 32,
     "metadata": {},
     "output_type": "execute_result"
    }
   ],
   "source": [
    "n"
   ]
  },
  {
   "cell_type": "code",
   "execution_count": 40,
   "id": "c04fb919",
   "metadata": {},
   "outputs": [
    {
     "data": {
      "text/latex": [
       "$\\displaystyle 1$"
      ],
      "text/plain": [
       "1"
      ]
     },
     "execution_count": 40,
     "metadata": {},
     "output_type": "execute_result"
    }
   ],
   "source": [
    "sp.gcd(7,n)"
   ]
  },
  {
   "cell_type": "code",
   "execution_count": 46,
   "id": "bc52be3d",
   "metadata": {},
   "outputs": [
    {
     "data": {
      "text/latex": [
       "$\\displaystyle 7433933$"
      ],
      "text/plain": [
       "7433933"
      ]
     },
     "execution_count": 46,
     "metadata": {},
     "output_type": "execute_result"
    }
   ],
   "source": [
    "sp.Mod(82589933,sp.totient(n))"
   ]
  },
  {
   "cell_type": "code",
   "execution_count": 49,
   "id": "64b092b7",
   "metadata": {},
   "outputs": [
    {
     "data": {
      "text/latex": [
       "$\\displaystyle 5418157$"
      ],
      "text/plain": [
       "5418157"
      ]
     },
     "execution_count": 49,
     "metadata": {},
     "output_type": "execute_result"
    }
   ],
   "source": [
    "sp.Mod(2**82589933,n)"
   ]
  },
  {
   "cell_type": "code",
   "execution_count": 50,
   "id": "78d798b6",
   "metadata": {},
   "outputs": [
    {
     "data": {
      "text/plain": [
       "5418157"
      ]
     },
     "execution_count": 50,
     "metadata": {},
     "output_type": "execute_result"
    }
   ],
   "source": [
    "2**82589933 % n"
   ]
  },
  {
   "cell_type": "code",
   "execution_count": 51,
   "id": "0dbdff3b",
   "metadata": {},
   "outputs": [
    {
     "data": {
      "text/plain": [
       "'0b100111011000011100011101101'"
      ]
     },
     "execution_count": 51,
     "metadata": {},
     "output_type": "execute_result"
    }
   ],
   "source": [
    "bin(82589933)"
   ]
  },
  {
   "cell_type": "code",
   "execution_count": null,
   "id": "bce7da16",
   "metadata": {},
   "outputs": [],
   "source": []
  }
 ],
 "metadata": {
  "kernelspec": {
   "display_name": "Python 3",
   "language": "python",
   "name": "python3"
  },
  "language_info": {
   "codemirror_mode": {
    "name": "ipython",
    "version": 3
   },
   "file_extension": ".py",
   "mimetype": "text/x-python",
   "name": "python",
   "nbconvert_exporter": "python",
   "pygments_lexer": "ipython3",
   "version": "3.8.8"
  }
 },
 "nbformat": 4,
 "nbformat_minor": 5
}
